{
 "cells": [
  {
   "cell_type": "code",
   "execution_count": 3,
   "id": "966024d8",
   "metadata": {},
   "outputs": [],
   "source": [
    "# Importing The Neccesary Modules\n",
    "import pandas as pd\n",
    "import numpy as np\n",
    "import matplotlib.pyplot as plt\n",
    "import wbdata"
   ]
  },
  {
   "cell_type": "code",
   "execution_count": null,
   "id": "372caaa0",
   "metadata": {},
   "outputs": [],
   "source": [
    "'''\n",
    "Ingest and manipulate the data using pandas dataframes. Your program should\n",
    "include a function which takes a  lename as argument, reads a dataframe in World-\n",
    "bank format and returns two dataframes: one with years as columns and one with\n",
    "countries as columns.\n",
    "'''\n",
    "\n",
    "# Function to read filename and return Countries as Column & Years as column\n",
    "# Years are already in column so they can't be changed again\n",
    "\n",
    "filename = 'API_19_DS2_en_csv_v2_4700503.csv'\n",
    "def returnCountry(filename):\n",
    "    df = pd.read_csv(\n",
    "                        filename , skiprows = 4\n",
    "                    )\n",
    "    df = df.set_index('Country Name')\n",
    "    df = df.drop([\n",
    "                'Country Code' , \n",
    "                'Indicator Name' , \n",
    "                'Indicator Code'] , \n",
    "            axis = 1\n",
    "            )\n",
    "    df = df.T \n",
    "    return df"
   ]
  },
  {
   "cell_type": "code",
   "execution_count": 16,
   "id": "42e76e28",
   "metadata": {},
   "outputs": [],
   "source": [
    "# I will be downloading the dataset of the countries of my choice using wbdata API\n",
    "\n",
    "\n",
    "# Countries that I want to extract data of\n",
    "countries = [\n",
    "                \"AFG\" , \n",
    "                \"IND\" , \n",
    "                \"PAK\"\n",
    "            ]\n",
    " \n",
    "# Indicators that I want to extract\n",
    "indicators_needed = {\n",
    "                'EN.ATM.CO2E.SF.KT' : 'CO2 emissions from solid fuel consumption (kt)' , \n",
    "                'AG.LND.AGRI.ZS' : 'Agricultural land (% of land area)' , \n",
    "                'AG.LND.FRST.ZS' : 'Forest area (% of land area)' , \n",
    "                'AG.LND.ARBL.ZS' : 'Arable land (% of land area)' ,\n",
    "                'SP.POP.TOTL' : 'Total Population'\n",
    "            }\n"
   ]
  },
  {
   "cell_type": "code",
   "execution_count": 46,
   "id": "2f770707",
   "metadata": {},
   "outputs": [
    {
     "data": {
      "text/html": [
       "<div>\n",
       "<style scoped>\n",
       "    .dataframe tbody tr th:only-of-type {\n",
       "        vertical-align: middle;\n",
       "    }\n",
       "\n",
       "    .dataframe tbody tr th {\n",
       "        vertical-align: top;\n",
       "    }\n",
       "\n",
       "    .dataframe thead tr th {\n",
       "        text-align: left;\n",
       "    }\n",
       "\n",
       "    .dataframe thead tr:last-of-type th {\n",
       "        text-align: right;\n",
       "    }\n",
       "</style>\n",
       "<table border=\"1\" class=\"dataframe\">\n",
       "  <thead>\n",
       "    <tr>\n",
       "      <th></th>\n",
       "      <th colspan=\"3\" halign=\"left\">GNI per Capita</th>\n",
       "      <th colspan=\"3\" halign=\"left\">Total Population</th>\n",
       "      <th colspan=\"3\" halign=\"left\">CO2 emissions from solid fuel consumption (kt)</th>\n",
       "      <th colspan=\"3\" halign=\"left\">Forest area (% of land area)</th>\n",
       "      <th colspan=\"3\" halign=\"left\">Arable land (% of land area)</th>\n",
       "      <th colspan=\"3\" halign=\"left\">Agricultural land (% of land area)</th>\n",
       "    </tr>\n",
       "    <tr>\n",
       "      <th>country</th>\n",
       "      <th>Afghanistan</th>\n",
       "      <th>India</th>\n",
       "      <th>Pakistan</th>\n",
       "      <th>Afghanistan</th>\n",
       "      <th>India</th>\n",
       "      <th>Pakistan</th>\n",
       "      <th>Afghanistan</th>\n",
       "      <th>India</th>\n",
       "      <th>Pakistan</th>\n",
       "      <th>Afghanistan</th>\n",
       "      <th>India</th>\n",
       "      <th>Pakistan</th>\n",
       "      <th>Afghanistan</th>\n",
       "      <th>India</th>\n",
       "      <th>Pakistan</th>\n",
       "      <th>Afghanistan</th>\n",
       "      <th>India</th>\n",
       "      <th>Pakistan</th>\n",
       "    </tr>\n",
       "    <tr>\n",
       "      <th>date</th>\n",
       "      <th></th>\n",
       "      <th></th>\n",
       "      <th></th>\n",
       "      <th></th>\n",
       "      <th></th>\n",
       "      <th></th>\n",
       "      <th></th>\n",
       "      <th></th>\n",
       "      <th></th>\n",
       "      <th></th>\n",
       "      <th></th>\n",
       "      <th></th>\n",
       "      <th></th>\n",
       "      <th></th>\n",
       "      <th></th>\n",
       "      <th></th>\n",
       "      <th></th>\n",
       "      <th></th>\n",
       "    </tr>\n",
       "  </thead>\n",
       "  <tbody>\n",
       "    <tr>\n",
       "      <th>1960</th>\n",
       "      <td>NaN</td>\n",
       "      <td>NaN</td>\n",
       "      <td>NaN</td>\n",
       "      <td>8996967.0</td>\n",
       "      <td>4.505477e+08</td>\n",
       "      <td>44988690.0</td>\n",
       "      <td>128.345</td>\n",
       "      <td>97208.503</td>\n",
       "      <td>5892.869</td>\n",
       "      <td>NaN</td>\n",
       "      <td>NaN</td>\n",
       "      <td>NaN</td>\n",
       "      <td>NaN</td>\n",
       "      <td>NaN</td>\n",
       "      <td>NaN</td>\n",
       "      <td>NaN</td>\n",
       "      <td>NaN</td>\n",
       "      <td>NaN</td>\n",
       "    </tr>\n",
       "    <tr>\n",
       "      <th>1961</th>\n",
       "      <td>NaN</td>\n",
       "      <td>NaN</td>\n",
       "      <td>NaN</td>\n",
       "      <td>9169406.0</td>\n",
       "      <td>4.596422e+08</td>\n",
       "      <td>46065229.0</td>\n",
       "      <td>176.016</td>\n",
       "      <td>104956.874</td>\n",
       "      <td>5804.861</td>\n",
       "      <td>NaN</td>\n",
       "      <td>NaN</td>\n",
       "      <td>NaN</td>\n",
       "      <td>11.728991</td>\n",
       "      <td>52.403647</td>\n",
       "      <td>39.668950</td>\n",
       "      <td>57.801696</td>\n",
       "      <td>58.843195</td>\n",
       "      <td>46.349626</td>\n",
       "    </tr>\n",
       "    <tr>\n",
       "      <th>1962</th>\n",
       "      <td>NaN</td>\n",
       "      <td>90.0</td>\n",
       "      <td>90.0</td>\n",
       "      <td>9351442.0</td>\n",
       "      <td>4.690772e+08</td>\n",
       "      <td>47198886.0</td>\n",
       "      <td>297.027</td>\n",
       "      <td>114227.050</td>\n",
       "      <td>6189.896</td>\n",
       "      <td>NaN</td>\n",
       "      <td>NaN</td>\n",
       "      <td>NaN</td>\n",
       "      <td>11.805651</td>\n",
       "      <td>52.704334</td>\n",
       "      <td>39.811644</td>\n",
       "      <td>57.893688</td>\n",
       "      <td>59.357794</td>\n",
       "      <td>46.492320</td>\n",
       "    </tr>\n",
       "    <tr>\n",
       "      <th>1963</th>\n",
       "      <td>NaN</td>\n",
       "      <td>100.0</td>\n",
       "      <td>100.0</td>\n",
       "      <td>9543200.0</td>\n",
       "      <td>4.788256e+08</td>\n",
       "      <td>48387293.0</td>\n",
       "      <td>264.024</td>\n",
       "      <td>122144.103</td>\n",
       "      <td>6681.274</td>\n",
       "      <td>NaN</td>\n",
       "      <td>NaN</td>\n",
       "      <td>NaN</td>\n",
       "      <td>11.882311</td>\n",
       "      <td>52.963315</td>\n",
       "      <td>39.863533</td>\n",
       "      <td>57.970348</td>\n",
       "      <td>59.247475</td>\n",
       "      <td>46.544209</td>\n",
       "    </tr>\n",
       "    <tr>\n",
       "      <th>1964</th>\n",
       "      <td>NaN</td>\n",
       "      <td>110.0</td>\n",
       "      <td>100.0</td>\n",
       "      <td>9744772.0</td>\n",
       "      <td>4.888481e+08</td>\n",
       "      <td>49627623.0</td>\n",
       "      <td>300.694</td>\n",
       "      <td>117167.984</td>\n",
       "      <td>6523.593</td>\n",
       "      <td>NaN</td>\n",
       "      <td>NaN</td>\n",
       "      <td>NaN</td>\n",
       "      <td>11.958972</td>\n",
       "      <td>53.051436</td>\n",
       "      <td>40.473225</td>\n",
       "      <td>58.066940</td>\n",
       "      <td>59.435152</td>\n",
       "      <td>47.160388</td>\n",
       "    </tr>\n",
       "    <tr>\n",
       "      <th>...</th>\n",
       "      <td>...</td>\n",
       "      <td>...</td>\n",
       "      <td>...</td>\n",
       "      <td>...</td>\n",
       "      <td>...</td>\n",
       "      <td>...</td>\n",
       "      <td>...</td>\n",
       "      <td>...</td>\n",
       "      <td>...</td>\n",
       "      <td>...</td>\n",
       "      <td>...</td>\n",
       "      <td>...</td>\n",
       "      <td>...</td>\n",
       "      <td>...</td>\n",
       "      <td>...</td>\n",
       "      <td>...</td>\n",
       "      <td>...</td>\n",
       "      <td>...</td>\n",
       "    </tr>\n",
       "    <tr>\n",
       "      <th>2017</th>\n",
       "      <td>530.0</td>\n",
       "      <td>1820.0</td>\n",
       "      <td>1490.0</td>\n",
       "      <td>36296111.0</td>\n",
       "      <td>1.338677e+09</td>\n",
       "      <td>207906210.0</td>\n",
       "      <td>NaN</td>\n",
       "      <td>NaN</td>\n",
       "      <td>NaN</td>\n",
       "      <td>1.852782</td>\n",
       "      <td>24.001426</td>\n",
       "      <td>4.994188</td>\n",
       "      <td>11.804118</td>\n",
       "      <td>52.433627</td>\n",
       "      <td>40.486198</td>\n",
       "      <td>58.123668</td>\n",
       "      <td>60.283939</td>\n",
       "      <td>48.000986</td>\n",
       "    </tr>\n",
       "    <tr>\n",
       "      <th>2018</th>\n",
       "      <td>510.0</td>\n",
       "      <td>2010.0</td>\n",
       "      <td>1670.0</td>\n",
       "      <td>37171922.0</td>\n",
       "      <td>1.352642e+09</td>\n",
       "      <td>212228288.0</td>\n",
       "      <td>NaN</td>\n",
       "      <td>NaN</td>\n",
       "      <td>NaN</td>\n",
       "      <td>1.852782</td>\n",
       "      <td>24.091027</td>\n",
       "      <td>4.940561</td>\n",
       "      <td>11.949772</td>\n",
       "      <td>52.293298</td>\n",
       "      <td>40.421337</td>\n",
       "      <td>58.276988</td>\n",
       "      <td>60.243565</td>\n",
       "      <td>47.936125</td>\n",
       "    </tr>\n",
       "    <tr>\n",
       "      <th>2019</th>\n",
       "      <td>520.0</td>\n",
       "      <td>2100.0</td>\n",
       "      <td>1620.0</td>\n",
       "      <td>38041757.0</td>\n",
       "      <td>1.366418e+09</td>\n",
       "      <td>216565317.0</td>\n",
       "      <td>NaN</td>\n",
       "      <td>NaN</td>\n",
       "      <td>NaN</td>\n",
       "      <td>1.852782</td>\n",
       "      <td>24.180628</td>\n",
       "      <td>4.886934</td>\n",
       "      <td>11.940573</td>\n",
       "      <td>52.256693</td>\n",
       "      <td>39.604089</td>\n",
       "      <td>58.276988</td>\n",
       "      <td>60.219813</td>\n",
       "      <td>47.118877</td>\n",
       "    </tr>\n",
       "    <tr>\n",
       "      <th>2020</th>\n",
       "      <td>500.0</td>\n",
       "      <td>1910.0</td>\n",
       "      <td>1460.0</td>\n",
       "      <td>38928341.0</td>\n",
       "      <td>1.380004e+09</td>\n",
       "      <td>220892331.0</td>\n",
       "      <td>NaN</td>\n",
       "      <td>NaN</td>\n",
       "      <td>NaN</td>\n",
       "      <td>1.852782</td>\n",
       "      <td>24.270228</td>\n",
       "      <td>4.833307</td>\n",
       "      <td>12.003434</td>\n",
       "      <td>52.256693</td>\n",
       "      <td>40.122976</td>\n",
       "      <td>58.807476</td>\n",
       "      <td>60.219857</td>\n",
       "      <td>47.637765</td>\n",
       "    </tr>\n",
       "    <tr>\n",
       "      <th>2021</th>\n",
       "      <td>NaN</td>\n",
       "      <td>2170.0</td>\n",
       "      <td>1500.0</td>\n",
       "      <td>39835428.0</td>\n",
       "      <td>1.393409e+09</td>\n",
       "      <td>225199929.0</td>\n",
       "      <td>NaN</td>\n",
       "      <td>NaN</td>\n",
       "      <td>NaN</td>\n",
       "      <td>NaN</td>\n",
       "      <td>NaN</td>\n",
       "      <td>NaN</td>\n",
       "      <td>NaN</td>\n",
       "      <td>NaN</td>\n",
       "      <td>NaN</td>\n",
       "      <td>NaN</td>\n",
       "      <td>NaN</td>\n",
       "      <td>NaN</td>\n",
       "    </tr>\n",
       "  </tbody>\n",
       "</table>\n",
       "<p>62 rows × 18 columns</p>\n",
       "</div>"
      ],
      "text/plain": [
       "        GNI per Capita                  Total Population                \\\n",
       "country    Afghanistan   India Pakistan      Afghanistan         India   \n",
       "date                                                                     \n",
       "1960               NaN     NaN      NaN        8996967.0  4.505477e+08   \n",
       "1961               NaN     NaN      NaN        9169406.0  4.596422e+08   \n",
       "1962               NaN    90.0     90.0        9351442.0  4.690772e+08   \n",
       "1963               NaN   100.0    100.0        9543200.0  4.788256e+08   \n",
       "1964               NaN   110.0    100.0        9744772.0  4.888481e+08   \n",
       "...                ...     ...      ...              ...           ...   \n",
       "2017             530.0  1820.0   1490.0       36296111.0  1.338677e+09   \n",
       "2018             510.0  2010.0   1670.0       37171922.0  1.352642e+09   \n",
       "2019             520.0  2100.0   1620.0       38041757.0  1.366418e+09   \n",
       "2020             500.0  1910.0   1460.0       38928341.0  1.380004e+09   \n",
       "2021               NaN  2170.0   1500.0       39835428.0  1.393409e+09   \n",
       "\n",
       "                     CO2 emissions from solid fuel consumption (kt)  \\\n",
       "country     Pakistan                                    Afghanistan   \n",
       "date                                                                  \n",
       "1960      44988690.0                                        128.345   \n",
       "1961      46065229.0                                        176.016   \n",
       "1962      47198886.0                                        297.027   \n",
       "1963      48387293.0                                        264.024   \n",
       "1964      49627623.0                                        300.694   \n",
       "...              ...                                            ...   \n",
       "2017     207906210.0                                            NaN   \n",
       "2018     212228288.0                                            NaN   \n",
       "2019     216565317.0                                            NaN   \n",
       "2020     220892331.0                                            NaN   \n",
       "2021     225199929.0                                            NaN   \n",
       "\n",
       "                              Forest area (% of land area)             \\\n",
       "country       India  Pakistan                  Afghanistan      India   \n",
       "date                                                                    \n",
       "1960      97208.503  5892.869                          NaN        NaN   \n",
       "1961     104956.874  5804.861                          NaN        NaN   \n",
       "1962     114227.050  6189.896                          NaN        NaN   \n",
       "1963     122144.103  6681.274                          NaN        NaN   \n",
       "1964     117167.984  6523.593                          NaN        NaN   \n",
       "...             ...       ...                          ...        ...   \n",
       "2017            NaN       NaN                     1.852782  24.001426   \n",
       "2018            NaN       NaN                     1.852782  24.091027   \n",
       "2019            NaN       NaN                     1.852782  24.180628   \n",
       "2020            NaN       NaN                     1.852782  24.270228   \n",
       "2021            NaN       NaN                          NaN        NaN   \n",
       "\n",
       "                  Arable land (% of land area)                        \\\n",
       "country  Pakistan                  Afghanistan      India   Pakistan   \n",
       "date                                                                   \n",
       "1960          NaN                          NaN        NaN        NaN   \n",
       "1961          NaN                    11.728991  52.403647  39.668950   \n",
       "1962          NaN                    11.805651  52.704334  39.811644   \n",
       "1963          NaN                    11.882311  52.963315  39.863533   \n",
       "1964          NaN                    11.958972  53.051436  40.473225   \n",
       "...           ...                          ...        ...        ...   \n",
       "2017     4.994188                    11.804118  52.433627  40.486198   \n",
       "2018     4.940561                    11.949772  52.293298  40.421337   \n",
       "2019     4.886934                    11.940573  52.256693  39.604089   \n",
       "2020     4.833307                    12.003434  52.256693  40.122976   \n",
       "2021          NaN                          NaN        NaN        NaN   \n",
       "\n",
       "        Agricultural land (% of land area)                        \n",
       "country                        Afghanistan      India   Pakistan  \n",
       "date                                                              \n",
       "1960                                   NaN        NaN        NaN  \n",
       "1961                             57.801696  58.843195  46.349626  \n",
       "1962                             57.893688  59.357794  46.492320  \n",
       "1963                             57.970348  59.247475  46.544209  \n",
       "1964                             58.066940  59.435152  47.160388  \n",
       "...                                    ...        ...        ...  \n",
       "2017                             58.123668  60.283939  48.000986  \n",
       "2018                             58.276988  60.243565  47.936125  \n",
       "2019                             58.276988  60.219813  47.118877  \n",
       "2020                             58.807476  60.219857  47.637765  \n",
       "2021                                   NaN        NaN        NaN  \n",
       "\n",
       "[62 rows x 18 columns]"
      ]
     },
     "execution_count": 46,
     "metadata": {},
     "output_type": "execute_result"
    }
   ],
   "source": [
    "# Downloading the Required Dataset\n",
    "df = wbdata.get_dataframe(\n",
    "                            indicators_needed , \n",
    "                            country = countries ,\n",
    "                            convert_date = False \n",
    "                        )\n",
    "\n",
    "dataset = df.unstack(level = 0)\n",
    "\n",
    "print(dataset)"
   ]
  },
  {
   "cell_type": "code",
   "execution_count": 47,
   "id": "a4f41aa8",
   "metadata": {},
   "outputs": [
    {
     "data": {
      "text/plain": [
       "Text(0, 0.5, 'Population Growth')"
      ]
     },
     "execution_count": 47,
     "metadata": {},
     "output_type": "execute_result"
    },
    {
     "data": {
      "image/png": "[encoded data removed]",
      "text/plain": [
       "<Figure size 432x288 with 1 Axes>"
      ]
     },
     "metadata": {
      "needs_background": "light"
     },
     "output_type": "display_data"
    }
   ],
   "source": [
    "'''\n",
    "Explore the statistical properties of a few indicators, that are of interest to you, and\n",
    "cross-compare between individual countries and/or the whole world (you do not\n",
    "have to do all the countries, just a few will do) and produce appropriate summary\n",
    "statistics. You can also use aggregated data for regions and other categories.\n",
    "'''\n",
    "\n",
    "\n",
    "# Using Matplotlib to visualize population of the nations\n",
    "df_population = dataset[\"Total Population\"]\n",
    "\n",
    "df1.plot()\n",
    "\n",
    "plt.title(\"Total Population AFG vs IND vs Pakistan)\n",
    "plt.xlabel('Decades')\n",
    "plt.ylabel('Population Growth')"
   ]
  },
  {
   "cell_type": "code",
   "execution_count": 48,
   "id": "c35df40c",
   "metadata": {},
   "outputs": [
    {
     "data": {
      "text/plain": [
       "Text(0, 0.5, 'Change in %')"
      ]
     },
     "execution_count": 48,
     "metadata": {},
     "output_type": "execute_result"
    },
    {
     "data": {
      "image/png": "[encoded data removed]",
      "text/plain": [
       "<Figure size 432x288 with 1 Axes>"
      ]
     },
     "metadata": {
      "needs_background": "light"
     },
     "output_type": "display_data"
    }
   ],
   "source": [
    "# Using Matplotlib to visualize Forest Area of the nations\n",
    "df_forest_area = dataset[\"Forest area (% of land area)\"]\n",
    "\n",
    "df_forest_area.plot()\n",
    "\n",
    "plt.title(\"Forest area (% of land area)\")\n",
    "\n",
    "plt.xlabel('Decades')\n",
    "plt.ylabel('Change in %')"
   ]
  },
  {
   "cell_type": "code",
   "execution_count": 49,
   "id": "a370716b",
   "metadata": {},
   "outputs": [
    {
     "data": {
      "text/plain": [
       "Text(0, 0.5, 'Change in %')"
      ]
     },
     "execution_count": 49,
     "metadata": {},
     "output_type": "execute_result"
    },
    {
     "data": {
      "image/png": "[encoded data removed]",
      "text/plain": [
       "<Figure size 432x288 with 1 Axes>"
      ]
     },
     "metadata": {
      "needs_background": "light"
     },
     "output_type": "display_data"
    }
   ],
   "source": [
    "# Using Matplotlib to visualize Arable Land of the nations\n",
    "df_arable_land = dataset[\"Arable land (% of land area)\"]\n",
    "\n",
    "df_arable_land.plot()\n",
    "\n",
    "plt.title(\"Arable land (% of land area)\")\n",
    "\n",
    "plt.xlabel('Decades')\n",
    "plt.ylabel('Change in %')"
   ]
  },
  {
   "cell_type": "code",
   "execution_count": 50,
   "id": "1f356282",
   "metadata": {},
   "outputs": [
    {
     "data": {
      "text/plain": [
       "Text(0, 0.5, 'Change in %')"
      ]
     },
     "execution_count": 50,
     "metadata": {},
     "output_type": "execute_result"
    },
    {
     "data": {
      "image/png": "[encoded data removed]",
      "text/plain": [
       "<Figure size 432x288 with 1 Axes>"
      ]
     },
     "metadata": {
      "needs_background": "light"
     },
     "output_type": "display_data"
    }
   ],
   "source": [
    "# Using Matplotlib to visualize Agricultural Land of the nations\n",
    "df_agri_land = dataset[\"Agricultural land (% of land area)\"]\n",
    "\n",
    "df_agri_land.plot()\n",
    "\n",
    "plt.title(\"Agricultural land (% of land area)\")\n",
    "\n",
    "plt.xlabel('Decades')\n",
    "plt.ylabel('Change in %')"
   ]
  },
  {
   "cell_type": "code",
   "execution_count": 51,
   "id": "fc90e43c",
   "metadata": {},
   "outputs": [],
   "source": [
    "# Assigning nations their respective data\n",
    "afghanistan = df.loc['Afghanistan']\n",
    "india = df.loc['India']\n",
    "pakistan = df.loc['Pakistan']"
   ]
  },
  {
   "cell_type": "code",
   "execution_count": 52,
   "id": "60844b9f",
   "metadata": {},
   "outputs": [
    {
     "data": {
      "image/png": "[encoded data removed]",
      "text/plain": [
       "<Figure size 432x288 with 1 Axes>"
      ]
     },
     "metadata": {
      "needs_background": "light"
     },
     "output_type": "display_data"
    },
    {
     "data": {
      "text/plain": [
       "<Figure size 432x288 with 0 Axes>"
      ]
     },
     "metadata": {},
     "output_type": "display_data"
    }
   ],
   "source": [
    "# Plotting Bar Plots \n",
    "fig, ax = plt.subplots()\n",
    "\n",
    "# Bar plot for mean/std of Pakistan\n",
    "ax.bar(\n",
    "        \"Pakistan\" , pakistan[\"CO2 emissions from solid fuel consumption (kt)\"].mean() , \n",
    "            yerr = pakistan[\"CO2 emissions from solid fuel consumption (kt)\"].std()\n",
    "    )\n",
    "\n",
    "# Bar plot for mean/std of India\n",
    "ax.bar(\n",
    "        \"Afghanistan\" , afghanistan[\"CO2 emissions from solid fuel consumption (kt)\"].mean() , \n",
    "           yerr = afghanistan[\"CO2 emissions from solid fuel consumption (kt)\"].std()\n",
    "    )\n",
    "\n",
    "ax.set_ylabel(\"CO2 emissions from solid fuel consumption (kt)\")\n",
    "\n",
    "plt.show()\n",
    "\n",
    "plt.clf()"
   ]
  },
  {
   "cell_type": "code",
   "execution_count": 53,
   "id": "665ffd5d",
   "metadata": {},
   "outputs": [
    {
     "data": {
      "image/png": "[encoded data removed]",
      "text/plain": [
       "<Figure size 432x288 with 1 Axes>"
      ]
     },
     "metadata": {
      "needs_background": "light"
     },
     "output_type": "display_data"
    },
    {
     "data": {
      "text/plain": [
       "<Figure size 432x288 with 0 Axes>"
      ]
     },
     "metadata": {},
     "output_type": "display_data"
    }
   ],
   "source": [
    "#scatter plot to show correlation\n",
    "fig, ax = plt.subplots()\n",
    "\n",
    "ax.scatter(\n",
    "            afghanistan[\"CO2 emissions from solid fuel consumption (kt)\"] , \n",
    "            afghanistan[\"Total Population\"] , \n",
    "            color = 'b'\n",
    "        )\n",
    "\n",
    "ax.scatter(\n",
    "            pakistan[\"CO2 emissions from solid fuel consumption (kt)\"] , \n",
    "            pakistan[\"Total Population\"] , \n",
    "            color = 'g'\n",
    "        )\n",
    "\n",
    "ax.set_xlabel(\"CO2 emissions from solid fuel consumption (kt)\")\n",
    "\n",
    "ax.set_ylabel(\"Total Population\")\n",
    "\n",
    "plt.show()\n",
    "\n",
    "plt.clf()"
   ]
  },
  {
   "cell_type": "code",
   "execution_count": 56,
   "id": "7997afce",
   "metadata": {},
   "outputs": [
    {
     "name": "stdout",
     "output_type": "stream",
     "text": [
      "                                                GNI per Capita  \\\n",
      "GNI per Capita                                        1.000000   \n",
      "Total Population                                      0.952873   \n",
      "CO2 emissions from solid fuel consumption (kt)        0.899592   \n",
      "Forest area (% of land area)                         -0.223312   \n",
      "Arable land (% of land area)                         -0.282978   \n",
      "Agricultural land (% of land area)                    0.005873   \n",
      "\n",
      "                                                Total Population  \\\n",
      "GNI per Capita                                          0.952873   \n",
      "Total Population                                        1.000000   \n",
      "CO2 emissions from solid fuel consumption (kt)          0.878039   \n",
      "Forest area (% of land area)                           -0.149402   \n",
      "Arable land (% of land area)                           -0.349109   \n",
      "Agricultural land (% of land area)                     -0.021524   \n",
      "\n",
      "                                                CO2 emissions from solid fuel consumption (kt)  \\\n",
      "GNI per Capita                                                                        0.899592   \n",
      "Total Population                                                                      0.878039   \n",
      "CO2 emissions from solid fuel consumption (kt)                                        1.000000   \n",
      "Forest area (% of land area)                                                         -0.126859   \n",
      "Arable land (% of land area)                                                         -0.445383   \n",
      "Agricultural land (% of land area)                                                   -0.182807   \n",
      "\n",
      "                                                Forest area (% of land area)  \\\n",
      "GNI per Capita                                                     -0.223312   \n",
      "Total Population                                                   -0.149402   \n",
      "CO2 emissions from solid fuel consumption (kt)                     -0.126859   \n",
      "Forest area (% of land area)                                        1.000000   \n",
      "Arable land (% of land area)                                        0.180663   \n",
      "Agricultural land (% of land area)                                  0.171825   \n",
      "\n",
      "                                                Arable land (% of land area)  \\\n",
      "GNI per Capita                                                     -0.282978   \n",
      "Total Population                                                   -0.349109   \n",
      "CO2 emissions from solid fuel consumption (kt)                     -0.445383   \n",
      "Forest area (% of land area)                                        0.180663   \n",
      "Arable land (% of land area)                                        1.000000   \n",
      "Agricultural land (% of land area)                                  0.940770   \n",
      "\n",
      "                                                Agricultural land (% of land area)  \n",
      "GNI per Capita                                                            0.005873  \n",
      "Total Population                                                         -0.021524  \n",
      "CO2 emissions from solid fuel consumption (kt)                           -0.182807  \n",
      "Forest area (% of land area)                                              0.171825  \n",
      "Arable land (% of land area)                                              0.940770  \n",
      "Agricultural land (% of land area)                                        1.000000  \n"
     ]
    },
    {
     "data": {
      "image/png": "[encoded data removed]",
      "text/plain": [
       "<Figure size 432x288 with 1 Axes>"
      ]
     },
     "metadata": {
      "needs_background": "light"
     },
     "output_type": "display_data"
    }
   ],
   "source": [
    "'''\n",
    "Explore and understand any correlations (or lack of) between indicators (e.g. popu-\n",
    "lation growth and energy consumption). Does this vary between country, have any\n",
    "correlations or trends changed with time?\n",
    "'''\n",
    "\n",
    "\n",
    "# Forest area of Pakistan\n",
    "pakistan[\"Forest area (% of land area)\"].plot().invert_xaxis()\n",
    "plt.title(\"Change in Forest area of Pakistan\")\n",
    "plt.xlabel('Decades')\n",
    "plt.ylabel('Forest area (% of land area)')\n",
    "\n",
    "# Correlation Data of Pakistan\n",
    "corr = pakistan.corr()\n",
    "print(corr)"
   ]
  },
  {
   "cell_type": "code",
   "execution_count": null,
   "id": "c36d7cd8",
   "metadata": {},
   "outputs": [],
   "source": []
  },
  {
   "cell_type": "code",
   "execution_count": null,
   "id": "83b6aa1e",
   "metadata": {},
   "outputs": [],
   "source": []
  },
  {
   "cell_type": "code",
   "execution_count": null,
   "id": "6280d48c",
   "metadata": {},
   "outputs": [],
   "source": []
  },
  {
   "cell_type": "code",
   "execution_count": null,
   "id": "e84980b3",
   "metadata": {},
   "outputs": [],
   "source": []
  },
  {
   "cell_type": "code",
   "execution_count": null,
   "id": "e6e45891",
   "metadata": {},
   "outputs": [],
   "source": []
  },
  {
   "cell_type": "code",
   "execution_count": null,
   "id": "0a00d920",
   "metadata": {},
   "outputs": [],
   "source": []
  },
  {
   "cell_type": "code",
   "execution_count": null,
   "id": "e6ff0536",
   "metadata": {},
   "outputs": [],
   "source": []
  },
  {
   "cell_type": "code",
   "execution_count": null,
   "id": "3faa532f",
   "metadata": {},
   "outputs": [],
   "source": []
  }
 ],
 "metadata": {
  "kernelspec": {
   "display_name": "Python 3 (ipykernel)",
   "language": "python",
   "name": "python3"
  },
  "language_info": {
   "codemirror_mode": {
    "name": "ipython",
    "version": 3
   },
   "file_extension": ".py",
   "mimetype": "text/x-python",
   "name": "python",
   "nbconvert_exporter": "python",
   "pygments_lexer": "ipython3",
   "version": "3.9.7"
  }
 },
 "nbformat": 4,
 "nbformat_minor": 5
}
